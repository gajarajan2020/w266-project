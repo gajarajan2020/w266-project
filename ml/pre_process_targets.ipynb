{
 "cells": [
  {
   "cell_type": "code",
   "execution_count": 30,
   "id": "lasting-final",
   "metadata": {},
   "outputs": [],
   "source": [
    "# This tells matplotlib not to try opening a new window for each plot.\n",
    "%matplotlib inline\n",
    "\n",
    "# Import a bunch of libraries.\n",
    "import pandas as pd\n",
    "import re\n",
    "import string\n",
    "import nltk\n",
    "import json\n",
    "\n",
    "from nltk.stem.porter import PorterStemmer\n",
    "from sklearn.model_selection import train_test_split\n"
   ]
  },
  {
   "cell_type": "markdown",
   "id": "waiting-violation",
   "metadata": {},
   "source": [
    "## Helper Functions"
   ]
  },
  {
   "cell_type": "code",
   "execution_count": 45,
   "id": "roman-nursery",
   "metadata": {},
   "outputs": [],
   "source": [
    "#Helper Functions\n",
    "# remove special char\n",
    "#This function removes , special characters, digits and stopwords from the data \n",
    "\n",
    "def clean_text_data(text_data):\n",
    "    #Lowercase the reviews\n",
    "    text_data=text_data.apply(lambda x: x.lower() if type(x) == str else x)\n",
    "\n",
    "    #Remove digits and words containing digits\n",
    "    text_data=text_data.apply(lambda x: re.sub('\\w*\\d\\w*','', x) if type(x) == str else x)\n",
    "\n",
    "    #Remove Excape Characters\n",
    "    text_data=text_data.apply(lambda x: re.sub(r'(\\\\r\\\\n)+', ' ', x) if type(x) == str else x)\n",
    "    \n",
    "    #Remove Punctuations\n",
    "    text_data=text_data.apply(lambda x: re.sub('[%s]' % re.escape(string.punctuation), '', x) if type(x) == str else x)\n",
    "    \n",
    "    # Removing extra spaces\n",
    "    text_data=text_data.apply(lambda x: re.sub(' +',' ',x) if type(x) == str else x)\n",
    "    \n",
    "    # Removing URLs\n",
    "    text_data=text_data.apply(lambda x: re.sub(r'http\\w*', 'httplink', x) if type(x) == str else x)\n",
    "   \n",
    "    #Porter Stemmer\n",
    "    porter = PorterStemmer()\n",
    "    text_data = [porter.stem(word) for word in text_data]\n",
    "\n",
    "    return text_data\n",
    "\n",
    "\n",
    "# read city names:\n",
    "def readCityNamesFromFile():\n",
    "    with open('../data/city_names.txt') as f:\n",
    "        lines = [line.rstrip().lower() for line in f]\n",
    "    return lines\n",
    "    \n",
    "    \n",
    "city_names = readCityNamesFromFile()\n",
    "\n"
   ]
  },
  {
   "cell_type": "markdown",
   "id": "wired-initial",
   "metadata": {},
   "source": [
    "Get Merchant Target Names List - Create Dataframe"
   ]
  },
  {
   "cell_type": "code",
   "execution_count": 46,
   "id": "concerned-burton",
   "metadata": {},
   "outputs": [],
   "source": [
    "from top_merchants import top_merchants_list\n",
    "df = pd.DataFrame(top_merchants_list, columns=[\"auth_merch_name\"])"
   ]
  },
  {
   "cell_type": "code",
   "execution_count": 47,
   "id": "suited-efficiency",
   "metadata": {},
   "outputs": [
    {
     "data": {
      "text/html": [
       "<div>\n",
       "<style scoped>\n",
       "    .dataframe tbody tr th:only-of-type {\n",
       "        vertical-align: middle;\n",
       "    }\n",
       "\n",
       "    .dataframe tbody tr th {\n",
       "        vertical-align: top;\n",
       "    }\n",
       "\n",
       "    .dataframe thead th {\n",
       "        text-align: right;\n",
       "    }\n",
       "</style>\n",
       "<table border=\"1\" class=\"dataframe\">\n",
       "  <thead>\n",
       "    <tr style=\"text-align: right;\">\n",
       "      <th></th>\n",
       "      <th>auth_merch_name</th>\n",
       "    </tr>\n",
       "  </thead>\n",
       "  <tbody>\n",
       "    <tr>\n",
       "      <th>0</th>\n",
       "      <td>amc market fair</td>\n",
       "    </tr>\n",
       "    <tr>\n",
       "      <th>1</th>\n",
       "      <td>ave m</td>\n",
       "    </tr>\n",
       "    <tr>\n",
       "      <th>2</th>\n",
       "      <td>deli grill</td>\n",
       "    </tr>\n",
       "    <tr>\n",
       "      <th>3</th>\n",
       "      <td>food mart sour</td>\n",
       "    </tr>\n",
       "    <tr>\n",
       "      <th>4</th>\n",
       "      <td>greentree rd</td>\n",
       "    </tr>\n",
       "  </tbody>\n",
       "</table>\n",
       "</div>"
      ],
      "text/plain": [
       "   auth_merch_name\n",
       "0  amc market fair\n",
       "1            ave m\n",
       "2       deli grill\n",
       "3   food mart sour\n",
       "4     greentree rd"
      ]
     },
     "execution_count": 47,
     "metadata": {},
     "output_type": "execute_result"
    }
   ],
   "source": [
    "df.head()"
   ]
  },
  {
   "cell_type": "markdown",
   "id": "convinced-message",
   "metadata": {},
   "source": [
    "### Clean merchant column - repove special char pantuationc and porter stem it"
   ]
  },
  {
   "cell_type": "code",
   "execution_count": 48,
   "id": "soviet-jenny",
   "metadata": {},
   "outputs": [
    {
     "data": {
      "text/html": [
       "<div>\n",
       "<style scoped>\n",
       "    .dataframe tbody tr th:only-of-type {\n",
       "        vertical-align: middle;\n",
       "    }\n",
       "\n",
       "    .dataframe tbody tr th {\n",
       "        vertical-align: top;\n",
       "    }\n",
       "\n",
       "    .dataframe thead th {\n",
       "        text-align: right;\n",
       "    }\n",
       "</style>\n",
       "<table border=\"1\" class=\"dataframe\">\n",
       "  <thead>\n",
       "    <tr style=\"text-align: right;\">\n",
       "      <th></th>\n",
       "      <th>auth_merch_name</th>\n",
       "      <th>mname</th>\n",
       "    </tr>\n",
       "  </thead>\n",
       "  <tbody>\n",
       "    <tr>\n",
       "      <th>0</th>\n",
       "      <td>amc market fair</td>\n",
       "      <td>amc market fair</td>\n",
       "    </tr>\n",
       "    <tr>\n",
       "      <th>1</th>\n",
       "      <td>ave m</td>\n",
       "      <td>ave m</td>\n",
       "    </tr>\n",
       "    <tr>\n",
       "      <th>2</th>\n",
       "      <td>deli grill</td>\n",
       "      <td>deli gril</td>\n",
       "    </tr>\n",
       "    <tr>\n",
       "      <th>3</th>\n",
       "      <td>food mart sour</td>\n",
       "      <td>food mart sour</td>\n",
       "    </tr>\n",
       "    <tr>\n",
       "      <th>4</th>\n",
       "      <td>greentree rd</td>\n",
       "      <td>greentree rd</td>\n",
       "    </tr>\n",
       "  </tbody>\n",
       "</table>\n",
       "</div>"
      ],
      "text/plain": [
       "   auth_merch_name            mname\n",
       "0  amc market fair  amc market fair\n",
       "1            ave m            ave m\n",
       "2       deli grill        deli gril\n",
       "3   food mart sour   food mart sour\n",
       "4     greentree rd     greentree rd"
      ]
     },
     "execution_count": 48,
     "metadata": {},
     "output_type": "execute_result"
    }
   ],
   "source": [
    "train_mname_1 = df[\"auth_merch_name\"].map(str)\n",
    "mname_train_mname_1_squeeze = train_mname_1.squeeze()\n",
    "mname_1_train =  clean_text_data(mname_train_mname_1_squeeze) #clean text to remove stop words and especial characters \n",
    "mname_1_train_df = pd.DataFrame(mname_1_train, columns=['mname'])\n",
    "df['mname'] =  mname_1_train\n",
    "df.head(5)\n",
    "\n",
    "  \n"
   ]
  },
  {
   "cell_type": "code",
   "execution_count": 49,
   "id": "regulation-island",
   "metadata": {},
   "outputs": [
    {
     "data": {
      "text/html": [
       "<div>\n",
       "<style scoped>\n",
       "    .dataframe tbody tr th:only-of-type {\n",
       "        vertical-align: middle;\n",
       "    }\n",
       "\n",
       "    .dataframe tbody tr th {\n",
       "        vertical-align: top;\n",
       "    }\n",
       "\n",
       "    .dataframe thead th {\n",
       "        text-align: right;\n",
       "    }\n",
       "</style>\n",
       "<table border=\"1\" class=\"dataframe\">\n",
       "  <thead>\n",
       "    <tr style=\"text-align: right;\">\n",
       "      <th></th>\n",
       "      <th>mname</th>\n",
       "    </tr>\n",
       "  </thead>\n",
       "  <tbody>\n",
       "    <tr>\n",
       "      <th>0</th>\n",
       "      <td>amc market fair</td>\n",
       "    </tr>\n",
       "    <tr>\n",
       "      <th>1</th>\n",
       "      <td>ave m</td>\n",
       "    </tr>\n",
       "    <tr>\n",
       "      <th>2</th>\n",
       "      <td>deli gril</td>\n",
       "    </tr>\n",
       "    <tr>\n",
       "      <th>3</th>\n",
       "      <td>food mart sour</td>\n",
       "    </tr>\n",
       "    <tr>\n",
       "      <th>4</th>\n",
       "      <td>greentree rd</td>\n",
       "    </tr>\n",
       "  </tbody>\n",
       "</table>\n",
       "</div>"
      ],
      "text/plain": [
       "             mname\n",
       "0  amc market fair\n",
       "1            ave m\n",
       "2        deli gril\n",
       "3   food mart sour\n",
       "4     greentree rd"
      ]
     },
     "execution_count": 49,
     "metadata": {},
     "output_type": "execute_result"
    }
   ],
   "source": [
    "# drom merchant name as it is nto needed anymore\n",
    "df = df.drop(columns=['auth_merch_name'],axis=1)\n",
    "df['mname'] = df['mname'].str.strip()\n",
    "\n",
    "df.head()\n"
   ]
  },
  {
   "cell_type": "code",
   "execution_count": 50,
   "id": "controversial-bradley",
   "metadata": {},
   "outputs": [
    {
     "data": {
      "text/html": [
       "<div>\n",
       "<style scoped>\n",
       "    .dataframe tbody tr th:only-of-type {\n",
       "        vertical-align: middle;\n",
       "    }\n",
       "\n",
       "    .dataframe tbody tr th {\n",
       "        vertical-align: top;\n",
       "    }\n",
       "\n",
       "    .dataframe thead th {\n",
       "        text-align: right;\n",
       "    }\n",
       "</style>\n",
       "<table border=\"1\" class=\"dataframe\">\n",
       "  <thead>\n",
       "    <tr style=\"text-align: right;\">\n",
       "      <th></th>\n",
       "      <th>mname</th>\n",
       "    </tr>\n",
       "  </thead>\n",
       "  <tbody>\n",
       "    <tr>\n",
       "      <th>0</th>\n",
       "      <td>amc market fair</td>\n",
       "    </tr>\n",
       "    <tr>\n",
       "      <th>1</th>\n",
       "      <td>ave m</td>\n",
       "    </tr>\n",
       "    <tr>\n",
       "      <th>2</th>\n",
       "      <td>deli gril</td>\n",
       "    </tr>\n",
       "    <tr>\n",
       "      <th>3</th>\n",
       "      <td>food mart sour</td>\n",
       "    </tr>\n",
       "    <tr>\n",
       "      <th>4</th>\n",
       "      <td>greentree rd</td>\n",
       "    </tr>\n",
       "    <tr>\n",
       "      <th>5</th>\n",
       "      <td>leaf clover protein</td>\n",
       "    </tr>\n",
       "    <tr>\n",
       "      <th>6</th>\n",
       "      <td>market c</td>\n",
       "    </tr>\n",
       "    <tr>\n",
       "      <th>7</th>\n",
       "      <td>marketsid</td>\n",
       "    </tr>\n",
       "    <tr>\n",
       "      <th>8</th>\n",
       "      <td>meeting hous</td>\n",
       "    </tr>\n",
       "    <tr>\n",
       "      <th>9</th>\n",
       "      <td>pbi flagler gou west palm</td>\n",
       "    </tr>\n",
       "  </tbody>\n",
       "</table>\n",
       "</div>"
      ],
      "text/plain": [
       "                       mname\n",
       "0            amc market fair\n",
       "1                      ave m\n",
       "2                  deli gril\n",
       "3             food mart sour\n",
       "4               greentree rd\n",
       "5        leaf clover protein\n",
       "6                   market c\n",
       "7                  marketsid\n",
       "8               meeting hous\n",
       "9  pbi flagler gou west palm"
      ]
     },
     "execution_count": 50,
     "metadata": {},
     "output_type": "execute_result"
    }
   ],
   "source": [
    "df_train = pd.DataFrame(df.mname)\n",
    "type(df_train)\n",
    "df_train.head(10)"
   ]
  },
  {
   "cell_type": "code",
   "execution_count": 51,
   "id": "proprietary-interview",
   "metadata": {},
   "outputs": [],
   "source": [
    "df_train.to_csv('../data/df_target.csv', index=False)"
   ]
  },
  {
   "cell_type": "code",
   "execution_count": null,
   "id": "accessory-subdivision",
   "metadata": {},
   "outputs": [],
   "source": []
  }
 ],
 "metadata": {
  "kernelspec": {
   "display_name": "Python 3",
   "language": "python",
   "name": "python3"
  },
  "language_info": {
   "codemirror_mode": {
    "name": "ipython",
    "version": 3
   },
   "file_extension": ".py",
   "mimetype": "text/x-python",
   "name": "python",
   "nbconvert_exporter": "python",
   "pygments_lexer": "ipython3",
   "version": "3.7.6"
  }
 },
 "nbformat": 4,
 "nbformat_minor": 5
}
